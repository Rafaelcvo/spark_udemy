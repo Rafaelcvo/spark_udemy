{
 "cells": [
  {
   "cell_type": "code",
   "execution_count": 3,
   "id": "3e7e6763",
   "metadata": {},
   "outputs": [
    {
     "name": "stdout",
     "output_type": "stream",
     "text": [
      "22/07/13 08:54:05 WARN Utils: Your hostname, not resolves to a loopback address: 127.0.1.1; using 192.168.1.5 instead (on interface enp7s0)\n",
      "22/07/13 08:54:05 WARN Utils: Set SPARK_LOCAL_IP if you need to bind to another address\n"
     ]
    },
    {
     "name": "stderr",
     "output_type": "stream",
     "text": [
      "Setting default log level to \"WARN\".\n",
      "To adjust logging level use sc.setLogLevel(newLevel). For SparkR, use setLogLevel(newLevel).\n"
     ]
    },
    {
     "name": "stdout",
     "output_type": "stream",
     "text": [
      "22/07/13 08:54:06 WARN NativeCodeLoader: Unable to load native-hadoop library for your platform... using builtin-java classes where applicable\n"
     ]
    }
   ],
   "source": [
    "from datetime import datetime, date\n",
    "from pyspark.sql import SparkSession\n",
    "from pyspark.sql import Row\n",
    "\n",
    "spark = SparkSession.builder.getOrCreate()"
   ]
  },
  {
   "cell_type": "code",
   "execution_count": 4,
   "id": "a25856f4",
   "metadata": {},
   "outputs": [
    {
     "data": {
      "text/plain": [
       "DataFrame[Cidade: string, Populacao: double, Time: string, Dat_cadastro: date]"
      ]
     },
     "execution_count": 4,
     "metadata": {},
     "output_type": "execute_result"
    }
   ],
   "source": [
    "datf=spark.createDataFrame([\n",
    "    Row(Cidade='Salvador', Populacao=6., Time='Bahia', Dat_cadastro=date(2021, 10, 10)),\n",
    "    Row(Cidade='Sao Paulo',Populacao=45., Time='Sao Paulo', Dat_cadastro=date(2021, 5, 5)),\n",
    "    Row(Cidade='Recife', Populacao=3., Time='Sport',Dat_cadastro=date(2021, 7, 2)),\n",
    "    Row(Cidade='Maceio', Populacao=2., Time='CSA', Dat_cadastro=date(2021, 8, 1)),\n",
    "])\n",
    "\n",
    "datf"
   ]
  },
  {
   "cell_type": "code",
   "execution_count": 5,
   "id": "3494a842",
   "metadata": {},
   "outputs": [
    {
     "name": "stderr",
     "output_type": "stream",
     "text": [
      "                                                                                \r"
     ]
    },
    {
     "name": "stdout",
     "output_type": "stream",
     "text": [
      "+---------+---------+---------+------------+\n",
      "|   Cidade|Populacao|     Time|Dat_cadastro|\n",
      "+---------+---------+---------+------------+\n",
      "| Salvador|      6.0|    Bahia|  2021-10-10|\n",
      "|Sao Paulo|     45.0|Sao Paulo|  2021-05-05|\n",
      "|   Recife|      3.0|    Sport|  2021-07-02|\n",
      "|   Maceio|      2.0|      CSA|  2021-08-01|\n",
      "+---------+---------+---------+------------+\n",
      "\n"
     ]
    }
   ],
   "source": [
    "datf.show()"
   ]
  },
  {
   "cell_type": "code",
   "execution_count": 6,
   "id": "a4af977e",
   "metadata": {},
   "outputs": [
    {
     "name": "stdout",
     "output_type": "stream",
     "text": [
      "+---------+---------+---------+------------+\n",
      "|   Cidade|Populacao|     Time|Dat_cadastro|\n",
      "+---------+---------+---------+------------+\n",
      "| Salvador|      6.0|    Bahia|  2021-10-10|\n",
      "|Sao Paulo|     45.0|Sao Paulo|  2021-05-05|\n",
      "+---------+---------+---------+------------+\n",
      "only showing top 2 rows\n",
      "\n"
     ]
    }
   ],
   "source": [
    "datf.show(2)"
   ]
  },
  {
   "cell_type": "code",
   "execution_count": 7,
   "id": "22a96d91",
   "metadata": {},
   "outputs": [
    {
     "name": "stdout",
     "output_type": "stream",
     "text": [
      "-RECORD 0------------------\n",
      " Cidade       | Salvador   \n",
      " Populacao    | 6.0        \n",
      " Time         | Bahia      \n",
      " Dat_cadastro | 2021-10-10 \n",
      "-RECORD 1------------------\n",
      " Cidade       | Sao Paulo  \n",
      " Populacao    | 45.0       \n",
      " Time         | Sao Paulo  \n",
      " Dat_cadastro | 2021-05-05 \n",
      "-RECORD 2------------------\n",
      " Cidade       | Recife     \n",
      " Populacao    | 3.0        \n",
      " Time         | Sport      \n",
      " Dat_cadastro | 2021-07-02 \n",
      "only showing top 3 rows\n",
      "\n"
     ]
    }
   ],
   "source": [
    "datf.show(3, vertical=True)"
   ]
  },
  {
   "cell_type": "code",
   "execution_count": 8,
   "id": "d20098a4",
   "metadata": {},
   "outputs": [
    {
     "data": {
      "text/plain": [
       "[Row(Cidade='Salvador', Populacao=6.0, Time='Bahia', Dat_cadastro=datetime.date(2021, 10, 10)),\n",
       " Row(Cidade='Sao Paulo', Populacao=45.0, Time='Sao Paulo', Dat_cadastro=datetime.date(2021, 5, 5)),\n",
       " Row(Cidade='Recife', Populacao=3.0, Time='Sport', Dat_cadastro=datetime.date(2021, 7, 2)),\n",
       " Row(Cidade='Maceio', Populacao=2.0, Time='CSA', Dat_cadastro=datetime.date(2021, 8, 1))]"
      ]
     },
     "execution_count": 8,
     "metadata": {},
     "output_type": "execute_result"
    }
   ],
   "source": [
    "datf.collect()"
   ]
  },
  {
   "cell_type": "code",
   "execution_count": 9,
   "id": "9ee69d85",
   "metadata": {},
   "outputs": [
    {
     "name": "stdout",
     "output_type": "stream",
     "text": [
      "root\n",
      " |-- Cidade: string (nullable = true)\n",
      " |-- Populacao: double (nullable = true)\n",
      " |-- Time: string (nullable = true)\n",
      " |-- Dat_cadastro: date (nullable = true)\n",
      "\n"
     ]
    }
   ],
   "source": [
    "datf.printSchema()"
   ]
  },
  {
   "cell_type": "code",
   "execution_count": 10,
   "id": "bc34bba6",
   "metadata": {},
   "outputs": [
    {
     "name": "stderr",
     "output_type": "stream",
     "text": [
      "\r",
      "[Stage 7:>                                                          (0 + 4) / 4]\r"
     ]
    },
    {
     "name": "stdout",
     "output_type": "stream",
     "text": [
      "+-------+---------+-----------------+\n",
      "|summary|   Cidade|        Populacao|\n",
      "+-------+---------+-----------------+\n",
      "|  count|        4|                4|\n",
      "|   mean|     null|             14.0|\n",
      "| stddev|     null|20.73644135332772|\n",
      "|    min|   Maceio|              2.0|\n",
      "|    max|Sao Paulo|             45.0|\n",
      "+-------+---------+-----------------+\n",
      "\n"
     ]
    },
    {
     "name": "stderr",
     "output_type": "stream",
     "text": [
      "\r",
      "                                                                                \r"
     ]
    }
   ],
   "source": [
    "datf.select(\"Cidade\", \"Populacao\").describe().show()"
   ]
  },
  {
   "cell_type": "code",
   "execution_count": 11,
   "id": "03aa2c5f",
   "metadata": {},
   "outputs": [
    {
     "name": "stdout",
     "output_type": "stream",
     "text": [
      "+---------+---------+---------+------------+---------+\n",
      "|   Cidade|Populacao|     Time|Dat_cadastro| Cidade_U|\n",
      "+---------+---------+---------+------------+---------+\n",
      "| Salvador|      6.0|    Bahia|  2021-10-10| SALVADOR|\n",
      "|Sao Paulo|     45.0|Sao Paulo|  2021-05-05|SAO PAULO|\n",
      "|   Recife|      3.0|    Sport|  2021-07-02|   RECIFE|\n",
      "|   Maceio|      2.0|      CSA|  2021-08-01|   MACEIO|\n",
      "+---------+---------+---------+------------+---------+\n",
      "\n"
     ]
    }
   ],
   "source": [
    "from pyspark.sql.functions import upper\n",
    "datf.withColumn('Cidade_U', upper(datf.Cidade)).show()"
   ]
  },
  {
   "cell_type": "code",
   "execution_count": 13,
   "id": "9d6bfc2b",
   "metadata": {},
   "outputs": [
    {
     "name": "stdout",
     "output_type": "stream",
     "text": [
      "+--------+---------+-----+------------+\n",
      "|  Cidade|Populacao| Time|Dat_cadastro|\n",
      "+--------+---------+-----+------------+\n",
      "|Salvador|      6.0|Bahia|  2021-10-10|\n",
      "+--------+---------+-----+------------+\n",
      "\n"
     ]
    }
   ],
   "source": [
    "datf.filter(datf.Cidade == \"Salvador\").show()"
   ]
  },
  {
   "cell_type": "code",
   "execution_count": 14,
   "id": "6b053369",
   "metadata": {},
   "outputs": [
    {
     "name": "stdout",
     "output_type": "stream",
     "text": [
      "+--------+\n",
      "|count(1)|\n",
      "+--------+\n",
      "|       4|\n",
      "+--------+\n",
      "\n"
     ]
    }
   ],
   "source": [
    "datf.createOrReplaceTempView(\"Dados\")\n",
    "spark.sql(\"select count(*) from Dados\").show()"
   ]
  },
  {
   "cell_type": "code",
   "execution_count": 15,
   "id": "65ceb30b",
   "metadata": {},
   "outputs": [],
   "source": [
    "# carregando os dados sobre Capital de paises\n",
    "pais = [(\"Brasil\",10000),(\"Argentina\",20000),(\"Australia\",35000),(\"Italia\",40000),(\"Egito\",65000),(\"Mexico\",80000)]\n",
    "rddpais= spark.sparkContext.parallelize(pais)"
   ]
  },
  {
   "cell_type": "code",
   "execution_count": 16,
   "id": "4c6b3d92",
   "metadata": {},
   "outputs": [],
   "source": [
    "dataframerdd = rddpais.toDF()"
   ]
  },
  {
   "cell_type": "code",
   "execution_count": 17,
   "id": "66789102",
   "metadata": {},
   "outputs": [
    {
     "name": "stdout",
     "output_type": "stream",
     "text": [
      "+---------+-----+\n",
      "|       _1|   _2|\n",
      "+---------+-----+\n",
      "|   Brasil|10000|\n",
      "|Argentina|20000|\n",
      "|Australia|35000|\n",
      "|   Italia|40000|\n",
      "|    Egito|65000|\n",
      "|   Mexico|80000|\n",
      "+---------+-----+\n",
      "\n"
     ]
    }
   ],
   "source": [
    "dataframerdd.show()"
   ]
  },
  {
   "cell_type": "code",
   "execution_count": 19,
   "id": "04d004ac",
   "metadata": {},
   "outputs": [
    {
     "name": "stdout",
     "output_type": "stream",
     "text": [
      "root\n",
      " |-- Pais: string (nullable = true)\n",
      " |-- Total_capital(Bilhoes): long (nullable = true)\n",
      "\n",
      "+---------+----------------------+\n",
      "|Pais     |Total_capital(Bilhoes)|\n",
      "+---------+----------------------+\n",
      "|Brasil   |10000                 |\n",
      "|Argentina|20000                 |\n",
      "|Australia|35000                 |\n",
      "|Italia   |40000                 |\n",
      "|Egito    |65000                 |\n",
      "|Mexico   |80000                 |\n",
      "+---------+----------------------+\n",
      "\n"
     ]
    }
   ],
   "source": [
    "colunas = ['Pais', 'Total_capital(Bilhoes)']\n",
    "dataframerdd2 = rddpais.toDF(colunas)\n",
    "dataframerdd2.printSchema()\n",
    "dataframerdd2.show(truncate=False)"
   ]
  },
  {
   "cell_type": "code",
   "execution_count": null,
   "id": "11784c0e",
   "metadata": {},
   "outputs": [],
   "source": []
  }
 ],
 "metadata": {
  "kernelspec": {
   "display_name": "Python 3 (ipykernel)",
   "language": "python",
   "name": "python3"
  },
  "language_info": {
   "codemirror_mode": {
    "name": "ipython",
    "version": 3
   },
   "file_extension": ".py",
   "mimetype": "text/x-python",
   "name": "python",
   "nbconvert_exporter": "python",
   "pygments_lexer": "ipython3",
   "version": "3.8.10"
  }
 },
 "nbformat": 4,
 "nbformat_minor": 5
}
