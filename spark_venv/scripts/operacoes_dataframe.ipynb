{
 "cells": [
  {
   "cell_type": "code",
   "execution_count": 2,
   "id": "9b6b20b8",
   "metadata": {},
   "outputs": [
    {
     "name": "stdout",
     "output_type": "stream",
     "text": [
      "22/07/13 10:10:12 WARN Utils: Your hostname, not resolves to a loopback address: 127.0.1.1; using 192.168.1.5 instead (on interface enp7s0)\n",
      "22/07/13 10:10:12 WARN Utils: Set SPARK_LOCAL_IP if you need to bind to another address\n"
     ]
    },
    {
     "name": "stderr",
     "output_type": "stream",
     "text": [
      "Setting default log level to \"WARN\".\n",
      "To adjust logging level use sc.setLogLevel(newLevel). For SparkR, use setLogLevel(newLevel).\n"
     ]
    },
    {
     "name": "stdout",
     "output_type": "stream",
     "text": [
      "22/07/13 10:10:14 WARN NativeCodeLoader: Unable to load native-hadoop library for your platform... using builtin-java classes where applicable\n"
     ]
    }
   ],
   "source": [
    "from pyspark.sql import SparkSession\n",
    "\n",
    "spark = SparkSession.builder.appName(\"fooddf\").getOrCreate()"
   ]
  },
  {
   "cell_type": "code",
   "execution_count": 4,
   "id": "595c36cc",
   "metadata": {},
   "outputs": [
    {
     "name": "stderr",
     "output_type": "stream",
     "text": [
      "                                                                                \r"
     ]
    }
   ],
   "source": [
    "df = spark.read.option(\"header\", \"true\").csv(\"/home/rafael/git/spark_udemy/spark_venv/dados/food_coded.csv\")"
   ]
  },
  {
   "cell_type": "code",
   "execution_count": 7,
   "id": "5d032dd3",
   "metadata": {},
   "outputs": [
    {
     "name": "stdout",
     "output_type": "stream",
     "text": [
      "22/07/13 10:14:15 WARN CSVHeaderChecker: CSV header does not conform to the schema.\n",
      " Header: GPA, Gender, breakfast, calories_chicken, calories_day, calories_scone, coffee, comfort_food, comfort_food_reasons, comfort_food_reasons_coded, cook, comfort_food_reasons_coded, cuisine, diet_current, diet_current_coded, drink, eating_changes, eating_changes_coded, eating_changes_coded1, eating_out, employment, ethnic_food, exercise, father_education, father_profession, fav_cuisine, fav_cuisine_coded, fav_food, food_childhood, fries, fruit_day, grade_level, greek_food, healthy_feeling, healthy_meal, ideal_diet, ideal_diet_coded, income, indian_food, italian_food, life_rewarding, marital_status, meals_dinner_friend, mother_education, mother_profession, nutritional_check, on_off_campus, parents_cook, pay_meal_out, persian_food, self_perception_weight, soup, sports, thai_food, tortilla_calories, turkey_calories, type_sports, veggies_day, vitamins, waffle_calories, weight\n",
      " Schema: GPA, Gender, breakfast, calories_chicken, calories_day, calories_scone, coffee, comfort_food, comfort_food_reasons, comfort_food_reasons_coded9, cook, comfort_food_reasons_coded11, cuisine, diet_current, diet_current_coded, drink, eating_changes, eating_changes_coded, eating_changes_coded1, eating_out, employment, ethnic_food, exercise, father_education, father_profession, fav_cuisine, fav_cuisine_coded, fav_food, food_childhood, fries, fruit_day, grade_level, greek_food, healthy_feeling, healthy_meal, ideal_diet, ideal_diet_coded, income, indian_food, italian_food, life_rewarding, marital_status, meals_dinner_friend, mother_education, mother_profession, nutritional_check, on_off_campus, parents_cook, pay_meal_out, persian_food, self_perception_weight, soup, sports, thai_food, tortilla_calories, turkey_calories, type_sports, veggies_day, vitamins, waffle_calories, weight\n",
      "Expected: comfort_food_reasons_coded9 but found: comfort_food_reasons_coded\n",
      "CSV file: file:///home/rafael/git/spark_udemy/spark_venv/dados/food_coded.csv\n",
      "+---------------+------+--------------------+----------------+------------+--------------+------+--------------------+--------------------+---------------------------+----+----------------------------+-------+--------------------+------------------+-----+--------------------+--------------------+---------------------+----------+----------+-----------+--------+----------------+-----------------+--------------------+-----------------+--------+--------------------+-----+---------+-----------+----------+---------------+--------------------+--------------------+----------------+------+-----------+------------+--------------+--------------+--------------------+----------------+--------------------+-----------------+-------------+------------+------------+------------+----------------------+----+------+---------+-----------------+---------------+-----------+-----------+--------+---------------+--------------------+\n",
      "|            GPA|Gender|           breakfast|calories_chicken|calories_day|calories_scone|coffee|        comfort_food|comfort_food_reasons|comfort_food_reasons_coded9|cook|comfort_food_reasons_coded11|cuisine|        diet_current|diet_current_coded|drink|      eating_changes|eating_changes_coded|eating_changes_coded1|eating_out|employment|ethnic_food|exercise|father_education|father_profession|         fav_cuisine|fav_cuisine_coded|fav_food|      food_childhood|fries|fruit_day|grade_level|greek_food|healthy_feeling|        healthy_meal|          ideal_diet|ideal_diet_coded|income|indian_food|italian_food|life_rewarding|marital_status| meals_dinner_friend|mother_education|   mother_profession|nutritional_check|on_off_campus|parents_cook|pay_meal_out|persian_food|self_perception_weight|soup|sports|thai_food|tortilla_calories|turkey_calories|type_sports|veggies_day|vitamins|waffle_calories|              weight|\n",
      "+---------------+------+--------------------+----------------+------------+--------------+------+--------------------+--------------------+---------------------------+----+----------------------------+-------+--------------------+------------------+-----+--------------------+--------------------+---------------------+----------+----------+-----------+--------+----------------+-----------------+--------------------+-----------------+--------+--------------------+-----+---------+-----------+----------+---------------+--------------------+--------------------+----------------+------+-----------+------------+--------------+--------------+--------------------+----------------+--------------------+-----------------+-------------+------------+------------+------------+----------------------+----+------+---------+-----------------+---------------+-----------+-----------+--------+---------------+--------------------+\n",
      "|            2.4|     2|                   1|             430|         nan|           315|     1|                none|we dont have comf...|                          9|   2|                           9|    nan|eat good and exer...|                 1|    1|         eat faster |                   1|                    1|         3|         3|          1|       1|               5|        profesor |      Arabic cuisine|                3|       1|  rice  and chicken |    2|        5|          2|         5|              2|     looks not oily |      being healthy |               8|     5|          5|           5|             1|             1|rice, chicken,  soup|               1|          unemployed|                5|            1|           1|           2|           5|                     3|   1|     1|        1|             1165|            345| car racing|          5|       1|           1315|                 187|\n",
      "|          3.654|     1|                   1|             610|           3|           420|     2|chocolate, chips,...|Stress, bored, anger|                          1|   3|                           1|      1|I eat about three...|                 2|    2|I eat out more th...|                   1|                    2|         2|         2|          4|       1|               2|   Self employed |             Italian|                1|       1|chicken and biscu...|    1|        4|          4|         4|              5|Grains, Veggies, ...|Try to eat 5-6 sm...|               3|     4|          4|           4|             1|             2|Pasta, steak, chi...|               4|           Nurse RN |                4|            1|           1|           4|           4|                     3|   1|     1|        2|              725|            690|Basketball |          4|       2|            900|                 155|\n",
      "|            3.3|     1|                   1|             720|           4|           420|     2|frozen yogurt, pi...|     stress, sadness|                          1|   1|                           1|      3|toast and fruit f...|                 3|    1|sometimes choosin...|                   1|                    3|         2|         3|          5|       2|               2|    owns business|             italian|                1|       3|mac and cheese, p...|    1|        5|          3|         5|              6|usually includes ...|i would say my id...|               6|     6|          5|           5|             7|             2|chicken and rice ...|               2|       owns business|                4|            2|           1|           3|           5|                     6|   1|     2|        5|             1165|            500|       none|          5|       1|            900|I'm not answering...|\n",
      "|            3.2|     1|                   1|             430|           3|           420|     2|Pizza, Mac and ch...|             Boredom|                          2|   2|                           2|      2|College diet, che...|                 2|    2|Accepting cheap a...|                   1|                    3|         2|         3|          5|       3|               2|        Mechanic |            Turkish |                3|       1|Beef stroganoff, ...|    2|        4|          4|         5|              7|Fresh fruits& veg...|Healthy, fresh ve...|               2|     6|          5|           5|             2|             2|    Grilled chicken |            null|                null|             null|         null|        null|        null|        null|                  null|null|  null|     null|             null|           null|       null|       null|    null|           null|                null|\n",
      "| Stuffed Shells|  null|                null|            null|        null|          null|  null|                null|                null|                       null|null|                        null|   null|                null|              null| null|                null|                null|                 null|      null|      null|       null|    null|            null|             null|                null|             null|    null|                null| null|     null|       null|      null|           null|                null|                null|            null|  null|       null|        null|          null|          null|                null|            null|                null|             null|         null|        null|        null|        null|                  null|null|  null|     null|             null|           null|       null|       null|    null|           null|                null|\n",
      "|Homemade Chili\"|     4|Special Education...|               2|           1|             1|     2|                   5|                   5|                          1|   2|                           5|    725|                 690|               nan|    3|                   1|                1315|        Not sure, 240|      null|      null|       null|    null|            null|             null|                null|             null|    null|                null| null|     null|       null|      null|           null|                null|                null|            null|  null|       null|        null|          null|          null|                null|            null|                null|             null|         null|        null|        null|        null|                  null|null|  null|     null|             null|           null|       null|       null|    null|           null|                null|\n",
      "|            3.5|     1|                   1|             720|           2|           420|     2|Ice cream, chocol...|Stress, boredom, ...|                          1|   1|                           1|      2|I try to eat heal...|                 2|    2|I have eaten gene...|                   3|                    4|         2|         2|          4|       1|               4|               IT|            Italian |                1|       3|Pasta, chicken te...|    1|        4|          4|         4|              6|A lean protein su...|Ideally I would l...|               2|     6|          2|           5|             1|             1|Chicken Parmesan,...|               5|Substance Abuse C...|                3|            1|           1|           4|           2|                     4|   1|     1|        4|              940|            500|   Softball|          4|       2|            760|                 190|\n",
      "|           2.25|     1|                   1|             610|           3|           980|     2|Candy, brownies a...|None, i don't eat...|                          4|   3|                           4|    nan|My current diet i...|                 2|    2|Eating rice every...|                   1|                    3|         1|         3|          4|       2|               1|      Taxi Driver|             African|                6|       3|Fries, plaintain ...|    1|        2|          2|         2|              4|Requires veggies,...|My ideal diet is ...|               2|     1|          5|           5|             4|             2|Anything they'd w...|               1|        Hair Braider|                1|            1|           2|           5|           5|                     5|   1|     2|        4|              940|            345|      None.|          1|       2|           1315|                 190|\n",
      "|            3.8|     2|                   1|             610|           3|           420|     2|Chocolate, ice cr...|     stress, boredom|                          1|   2|                           1|      1|I eat a lot of ch...|                 3|    1|I started eating ...|                   2|                    5|         2|         3|          5|       1|               4|       Assembler |                Thai|                4|       1|grilled chicken, ...|    1|        4|          4|         5|              4|Protein, vegetabl...|I would ideally l...|               2|     4|          5|           5|             8|             1|Grilled chicken, ...|               4|          Journalist|                4|            2|           2|           2|           5|                     4|   1|     1|        5|              940|            690|     soccer|          4|       1|           1315|                 180|\n",
      "|            3.3|     1|                   1|             720|           3|           420|     1|Ice cream, cheese...|I eat comfort foo...|                          1|   3|                           1|      1|I eat a very heal...|                 1|    2|Freshmen year i a...|                   2|                    5|         2|         2|          2|       2|               3|     Business guy|Anything american...|                5|       1|chicken, cheesey ...|    1|        5|          2|         3|              3|A healthy meal ha...|My ideal diet is ...|               2|     5|          1|           3|             3|             1|chicken, steak, p...|               2|                cook|                4|            1|           1|           5|           1|                     3|   1|     2|        1|              725|            500|       none|          4|       2|           1315|                 137|\n",
      "+---------------+------+--------------------+----------------+------------+--------------+------+--------------------+--------------------+---------------------------+----+----------------------------+-------+--------------------+------------------+-----+--------------------+--------------------+---------------------+----------+----------+-----------+--------+----------------+-----------------+--------------------+-----------------+--------+--------------------+-----+---------+-----------+----------+---------------+--------------------+--------------------+----------------+------+-----------+------------+--------------+--------------+--------------------+----------------+--------------------+-----------------+-------------+------------+------------+------------+----------------------+----+------+---------+-----------------+---------------+-----------+-----------+--------+---------------+--------------------+\n",
      "only showing top 10 rows\n",
      "\n"
     ]
    }
   ],
   "source": [
    "df.show(10)"
   ]
  },
  {
   "cell_type": "code",
   "execution_count": 6,
   "id": "cfc4a352",
   "metadata": {},
   "outputs": [
    {
     "name": "stdout",
     "output_type": "stream",
     "text": [
      "root\n",
      " |-- GPA: string (nullable = true)\n",
      " |-- Gender: string (nullable = true)\n",
      " |-- breakfast: string (nullable = true)\n",
      " |-- calories_chicken: string (nullable = true)\n",
      " |-- calories_day: string (nullable = true)\n",
      " |-- calories_scone: string (nullable = true)\n",
      " |-- coffee: string (nullable = true)\n",
      " |-- comfort_food: string (nullable = true)\n",
      " |-- comfort_food_reasons: string (nullable = true)\n",
      " |-- comfort_food_reasons_coded9: string (nullable = true)\n",
      " |-- cook: string (nullable = true)\n",
      " |-- comfort_food_reasons_coded11: string (nullable = true)\n",
      " |-- cuisine: string (nullable = true)\n",
      " |-- diet_current: string (nullable = true)\n",
      " |-- diet_current_coded: string (nullable = true)\n",
      " |-- drink: string (nullable = true)\n",
      " |-- eating_changes: string (nullable = true)\n",
      " |-- eating_changes_coded: string (nullable = true)\n",
      " |-- eating_changes_coded1: string (nullable = true)\n",
      " |-- eating_out: string (nullable = true)\n",
      " |-- employment: string (nullable = true)\n",
      " |-- ethnic_food: string (nullable = true)\n",
      " |-- exercise: string (nullable = true)\n",
      " |-- father_education: string (nullable = true)\n",
      " |-- father_profession: string (nullable = true)\n",
      " |-- fav_cuisine: string (nullable = true)\n",
      " |-- fav_cuisine_coded: string (nullable = true)\n",
      " |-- fav_food: string (nullable = true)\n",
      " |-- food_childhood: string (nullable = true)\n",
      " |-- fries: string (nullable = true)\n",
      " |-- fruit_day: string (nullable = true)\n",
      " |-- grade_level: string (nullable = true)\n",
      " |-- greek_food: string (nullable = true)\n",
      " |-- healthy_feeling: string (nullable = true)\n",
      " |-- healthy_meal: string (nullable = true)\n",
      " |-- ideal_diet: string (nullable = true)\n",
      " |-- ideal_diet_coded: string (nullable = true)\n",
      " |-- income: string (nullable = true)\n",
      " |-- indian_food: string (nullable = true)\n",
      " |-- italian_food: string (nullable = true)\n",
      " |-- life_rewarding: string (nullable = true)\n",
      " |-- marital_status: string (nullable = true)\n",
      " |-- meals_dinner_friend: string (nullable = true)\n",
      " |-- mother_education: string (nullable = true)\n",
      " |-- mother_profession: string (nullable = true)\n",
      " |-- nutritional_check: string (nullable = true)\n",
      " |-- on_off_campus: string (nullable = true)\n",
      " |-- parents_cook: string (nullable = true)\n",
      " |-- pay_meal_out: string (nullable = true)\n",
      " |-- persian_food: string (nullable = true)\n",
      " |-- self_perception_weight: string (nullable = true)\n",
      " |-- soup: string (nullable = true)\n",
      " |-- sports: string (nullable = true)\n",
      " |-- thai_food: string (nullable = true)\n",
      " |-- tortilla_calories: string (nullable = true)\n",
      " |-- turkey_calories: string (nullable = true)\n",
      " |-- type_sports: string (nullable = true)\n",
      " |-- veggies_day: string (nullable = true)\n",
      " |-- vitamins: string (nullable = true)\n",
      " |-- waffle_calories: string (nullable = true)\n",
      " |-- weight: string (nullable = true)\n",
      "\n"
     ]
    }
   ],
   "source": [
    "df.printSchema()"
   ]
  },
  {
   "cell_type": "code",
   "execution_count": 9,
   "id": "d037bd62",
   "metadata": {},
   "outputs": [
    {
     "name": "stdout",
     "output_type": "stream",
     "text": [
      "+--------------------+--------------------+------+--------------------+------------+\n",
      "|   mother_profession|         type_sports|Gender|              weight|calories_day|\n",
      "+--------------------+--------------------+------+--------------------+------------+\n",
      "|          unemployed|          car racing|     2|                 187|         nan|\n",
      "|           Nurse RN |         Basketball |     1|                 155|           3|\n",
      "|       owns business|                none|     1|I'm not answering...|           4|\n",
      "|                null|                null|     1|                null|           3|\n",
      "|                null|                null|  null|                null|        null|\n",
      "|                null|                null|     4|                null|           1|\n",
      "|Substance Abuse C...|            Softball|     1|                 190|           2|\n",
      "|        Hair Braider|               None.|     1|                 190|           3|\n",
      "|          Journalist|              soccer|     2|                 180|           3|\n",
      "|                cook|                none|     1|                 137|           3|\n",
      "|Elementary School...|                none|     1|                 180|         nan|\n",
      "|  Pharmaceutical rep|        field hockey|     1|                 125|           3|\n",
      "|     Chidos Cleaners|              soccer|     1|                 116|           3|\n",
      "|     Court Reporter |             Running|     1|                 110|           4|\n",
      "|Child care provider |Soccer and basket...|     2|                 264|           3|\n",
      "|      business owner|intramural volley...|     1|                 123|           3|\n",
      "|      Charity worker|              Hockey|     2|                 185|           3|\n",
      "|           Librarian|              Hockey|     2|                 180|         nan|\n",
      "|              Police|                 nan|     1|                 145|           3|\n",
      "|    stay at home mom|              hockey|     2|                 170|           3|\n",
      "|    Daycare provider|            dancing |     1|                 135|           3|\n",
      "|  physical therapist|          basketball|     2|                 165|           2|\n",
      "|             Teacher|              Soccer|     2|                 175|           3|\n",
      "|          House wife|              Tennis|     2|                 195|           3|\n",
      "|       Underwiriter |   tennis soccer gym|     2|                 185|           3|\n",
      "|         Beautician |     Gaelic Football|     2|                 185|           3|\n",
      "|          Unemployed|                none|     1|                 105|           2|\n",
      "|                null|                null|     1|                null|           3|\n",
      "|                null|                null|     3|                null|           1|\n",
      "|Doctors Billing A...|              Hockey|     2|                 160|           2|\n",
      "+--------------------+--------------------+------+--------------------+------------+\n",
      "only showing top 30 rows\n",
      "\n"
     ]
    }
   ],
   "source": [
    "df.select('mother_profession', 'type_sports','Gender', 'weight', 'calories_day').show(30)"
   ]
  },
  {
   "cell_type": "code",
   "execution_count": 10,
   "id": "d86c20d7",
   "metadata": {},
   "outputs": [],
   "source": [
    "from pyspark.sql import *\n",
    "\n",
    "resultdf1 = df.filter(df.weight.isNotNull()).select('mother_profession', 'type_sports', 'Gender', 'weight', 'calories_day')"
   ]
  },
  {
   "cell_type": "code",
   "execution_count": 11,
   "id": "6712cf61",
   "metadata": {},
   "outputs": [
    {
     "name": "stdout",
     "output_type": "stream",
     "text": [
      "+--------------------+--------------------+------+--------------------+------------+\n",
      "|   mother_profession|         type_sports|Gender|              weight|calories_day|\n",
      "+--------------------+--------------------+------+--------------------+------------+\n",
      "|          unemployed|          car racing|     2|                 187|         nan|\n",
      "|           Nurse RN |         Basketball |     1|                 155|           3|\n",
      "|       owns business|                none|     1|I'm not answering...|           4|\n",
      "|Substance Abuse C...|            Softball|     1|                 190|           2|\n",
      "|        Hair Braider|               None.|     1|                 190|           3|\n",
      "|          Journalist|              soccer|     2|                 180|           3|\n",
      "|                cook|                none|     1|                 137|           3|\n",
      "|Elementary School...|                none|     1|                 180|         nan|\n",
      "|  Pharmaceutical rep|        field hockey|     1|                 125|           3|\n",
      "|     Chidos Cleaners|              soccer|     1|                 116|           3|\n",
      "|     Court Reporter |             Running|     1|                 110|           4|\n",
      "|Child care provider |Soccer and basket...|     2|                 264|           3|\n",
      "|      business owner|intramural volley...|     1|                 123|           3|\n",
      "|      Charity worker|              Hockey|     2|                 185|           3|\n",
      "|           Librarian|              Hockey|     2|                 180|         nan|\n",
      "|              Police|                 nan|     1|                 145|           3|\n",
      "|    stay at home mom|              hockey|     2|                 170|           3|\n",
      "|    Daycare provider|            dancing |     1|                 135|           3|\n",
      "|  physical therapist|          basketball|     2|                 165|           2|\n",
      "|             Teacher|              Soccer|     2|                 175|           3|\n",
      "+--------------------+--------------------+------+--------------------+------------+\n",
      "only showing top 20 rows\n",
      "\n"
     ]
    }
   ],
   "source": [
    "resultdf1.show()"
   ]
  },
  {
   "cell_type": "code",
   "execution_count": 16,
   "id": "c44a1347",
   "metadata": {},
   "outputs": [
    {
     "name": "stdout",
     "output_type": "stream",
     "text": [
      "+--------------------+--------------------+------+------+------------+\n",
      "|   mother_profession|         type_sports|Gender|weight|calories_day|\n",
      "+--------------------+--------------------+------+------+------------+\n",
      "|          unemployed|          car racing|     2|   187|         nan|\n",
      "|           Nurse RN |         Basketball |     1|   155|           3|\n",
      "|Substance Abuse C...|            Softball|     1|   190|           2|\n",
      "|        Hair Braider|               None.|     1|   190|           3|\n",
      "|          Journalist|              soccer|     2|   180|           3|\n",
      "|                cook|                none|     1|   137|           3|\n",
      "|Elementary School...|                none|     1|   180|         nan|\n",
      "|  Pharmaceutical rep|        field hockey|     1|   125|           3|\n",
      "|     Chidos Cleaners|              soccer|     1|   116|           3|\n",
      "|     Court Reporter |             Running|     1|   110|           4|\n",
      "|Child care provider |Soccer and basket...|     2|   264|           3|\n",
      "|      business owner|intramural volley...|     1|   123|           3|\n",
      "|      Charity worker|              Hockey|     2|   185|           3|\n",
      "|           Librarian|              Hockey|     2|   180|         nan|\n",
      "|              Police|                 nan|     1|   145|           3|\n",
      "|    stay at home mom|              hockey|     2|   170|           3|\n",
      "|    Daycare provider|            dancing |     1|   135|           3|\n",
      "|  physical therapist|          basketball|     2|   165|           2|\n",
      "|             Teacher|              Soccer|     2|   175|           3|\n",
      "|          House wife|              Tennis|     2|   195|           3|\n",
      "+--------------------+--------------------+------+------+------------+\n",
      "only showing top 20 rows\n",
      "\n"
     ]
    }
   ],
   "source": [
    "from pyspark.sql import functions as F\n",
    "resultdf2 = resultdf1.filter(F.col(\"weight\").rlike(\"^[0-9]*$\"))\n",
    "resultdf2.show()"
   ]
  },
  {
   "cell_type": "code",
   "execution_count": 17,
   "id": "ad2833d0",
   "metadata": {},
   "outputs": [
    {
     "name": "stdout",
     "output_type": "stream",
     "text": [
      "+------+------+-----+\n",
      "|Gender|weight|count|\n",
      "+------+------+-----+\n",
      "|     1|     1|    1|\n",
      "|     1|   100|    1|\n",
      "|     1|   105|    1|\n",
      "|     1|   110|    1|\n",
      "|     1|   112|    1|\n",
      "|     1|   113|    1|\n",
      "|     1|   115|    1|\n",
      "|     1|   116|    1|\n",
      "|     1|   120|    3|\n",
      "|     1|   123|    1|\n",
      "|     1|   125|    4|\n",
      "|     1|   127|    1|\n",
      "|     1|   128|    2|\n",
      "|     1|   129|    2|\n",
      "|     1|   130|    3|\n",
      "|     1|   135|    7|\n",
      "|     2|   135|    1|\n",
      "|     1|   137|    1|\n",
      "|     2|   140|    2|\n",
      "|     1|   140|    6|\n",
      "+------+------+-----+\n",
      "only showing top 20 rows\n",
      "\n"
     ]
    }
   ],
   "source": [
    "# Gerando uma agregação dos dados por Gender e weight\n",
    "resultdf2.groupBy(\"Gender\", \"weight\").count().orderBy(\"weight\").show()"
   ]
  },
  {
   "cell_type": "code",
   "execution_count": 24,
   "id": "31a15599",
   "metadata": {},
   "outputs": [
    {
     "name": "stdout",
     "output_type": "stream",
     "text": [
      "+--------------------+--------------------------------------------+\n",
      "|         type_sports|CASE WHEN (weight >= 150) THEN Sobrepeso END|\n",
      "+--------------------+--------------------------------------------+\n",
      "|          car racing|                                   Sobrepeso|\n",
      "|         Basketball |                                   Sobrepeso|\n",
      "|            Softball|                                   Sobrepeso|\n",
      "|               None.|                                   Sobrepeso|\n",
      "|              soccer|                                   Sobrepeso|\n",
      "|                none|                                        null|\n",
      "|                none|                                   Sobrepeso|\n",
      "|        field hockey|                                        null|\n",
      "|              soccer|                                        null|\n",
      "|             Running|                                        null|\n",
      "|Soccer and basket...|                                   Sobrepeso|\n",
      "|intramural volley...|                                        null|\n",
      "|              Hockey|                                   Sobrepeso|\n",
      "|              Hockey|                                   Sobrepeso|\n",
      "|                 nan|                                        null|\n",
      "|              hockey|                                   Sobrepeso|\n",
      "|            dancing |                                        null|\n",
      "|          basketball|                                   Sobrepeso|\n",
      "|              Soccer|                                   Sobrepeso|\n",
      "|              Tennis|                                   Sobrepeso|\n",
      "+--------------------+--------------------------------------------+\n",
      "only showing top 20 rows\n",
      "\n"
     ]
    }
   ],
   "source": [
    "resultdf3 = resultdf2.select(\"type_sports\", F.when(resultdf2.weight >= 150, \"Sobrepeso\"))\n",
    "resultdf3.show()"
   ]
  },
  {
   "cell_type": "code",
   "execution_count": 27,
   "id": "0a6157c1",
   "metadata": {},
   "outputs": [
    {
     "name": "stdout",
     "output_type": "stream",
     "text": [
      "+--------------------+--------------------------------------------+\n",
      "|         type_sports|CASE WHEN (weight >= 150) THEN Sobrepeso END|\n",
      "+--------------------+--------------------------------------------+\n",
      "|          car racing|                                   Sobrepeso|\n",
      "|         Basketball |                                   Sobrepeso|\n",
      "|            Softball|                                   Sobrepeso|\n",
      "|               None.|                                   Sobrepeso|\n",
      "|              soccer|                                   Sobrepeso|\n",
      "|                none|                                   Sobrepeso|\n",
      "|Soccer and basket...|                                   Sobrepeso|\n",
      "|              Hockey|                                   Sobrepeso|\n",
      "|              Hockey|                                   Sobrepeso|\n",
      "|              hockey|                                   Sobrepeso|\n",
      "|          basketball|                                   Sobrepeso|\n",
      "|              Soccer|                                   Sobrepeso|\n",
      "|              Tennis|                                   Sobrepeso|\n",
      "|   tennis soccer gym|                                   Sobrepeso|\n",
      "|     Gaelic Football|                                   Sobrepeso|\n",
      "|              Hockey|                                   Sobrepeso|\n",
      "|           Lacrosse |                                   Sobrepeso|\n",
      "|                 nan|                                   Sobrepeso|\n",
      "|                 nan|                                   Sobrepeso|\n",
      "|      none organized|                                   Sobrepeso|\n",
      "+--------------------+--------------------------------------------+\n",
      "only showing top 20 rows\n",
      "\n"
     ]
    }
   ],
   "source": [
    "resultdf4 = resultdf3.filter(resultdf3[1].isNotNull())\n",
    "resultdf4.show()"
   ]
  },
  {
   "cell_type": "code",
   "execution_count": 28,
   "id": "cf596930",
   "metadata": {},
   "outputs": [
    {
     "name": "stdout",
     "output_type": "stream",
     "text": [
      "+--------------------+--------------------------------------------+\n",
      "|         type_sports|CASE WHEN (weight >= 150) THEN Sobrepeso END|\n",
      "+--------------------+--------------------------------------------+\n",
      "|          car racing|                                   Sobrepeso|\n",
      "|         Basketball |                                   Sobrepeso|\n",
      "|            Softball|                                   Sobrepeso|\n",
      "|              soccer|                                   Sobrepeso|\n",
      "|Soccer and basket...|                                   Sobrepeso|\n",
      "|              Hockey|                                   Sobrepeso|\n",
      "|              Hockey|                                   Sobrepeso|\n",
      "|              hockey|                                   Sobrepeso|\n",
      "|          basketball|                                   Sobrepeso|\n",
      "|              Soccer|                                   Sobrepeso|\n",
      "|              Tennis|                                   Sobrepeso|\n",
      "|   tennis soccer gym|                                   Sobrepeso|\n",
      "|     Gaelic Football|                                   Sobrepeso|\n",
      "|              Hockey|                                   Sobrepeso|\n",
      "|           Lacrosse |                                   Sobrepeso|\n",
      "|      none organized|                                   Sobrepeso|\n",
      "|            softball|                                   Sobrepeso|\n",
      "|            Lacrosse|                                   Sobrepeso|\n",
      "|           Softball |                                   Sobrepeso|\n",
      "|             Dancing|                                   Sobrepeso|\n",
      "+--------------------+--------------------------------------------+\n",
      "only showing top 20 rows\n",
      "\n"
     ]
    }
   ],
   "source": [
    "resultdf4.filter((resultdf3[0] != 'none') & (resultdf3[0] != 'None.') & (resultdf3[0] != \"nan\")).show()"
   ]
  },
  {
   "cell_type": "code",
   "execution_count": 29,
   "id": "d7011cca",
   "metadata": {},
   "outputs": [
    {
     "data": {
      "text/plain": [
       "57"
      ]
     },
     "execution_count": 29,
     "metadata": {},
     "output_type": "execute_result"
    }
   ],
   "source": [
    "resultdf4.filter((resultdf3[0] != 'none') & (resultdf3[0] != 'None.') & (resultdf3[0] != \"nan\")).count()"
   ]
  }
 ],
 "metadata": {
  "kernelspec": {
   "display_name": "Python 3 (ipykernel)",
   "language": "python",
   "name": "python3"
  },
  "language_info": {
   "codemirror_mode": {
    "name": "ipython",
    "version": 3
   },
   "file_extension": ".py",
   "mimetype": "text/x-python",
   "name": "python",
   "nbconvert_exporter": "python",
   "pygments_lexer": "ipython3",
   "version": "3.8.10"
  }
 },
 "nbformat": 4,
 "nbformat_minor": 5
}
