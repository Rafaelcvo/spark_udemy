{
 "cells": [
  {
   "cell_type": "code",
   "execution_count": 1,
   "id": "0f46057e",
   "metadata": {},
   "outputs": [
    {
     "name": "stdout",
     "output_type": "stream",
     "text": [
      "22/07/11 21:54:27 WARN Utils: Your hostname, not resolves to a loopback address: 127.0.1.1; using 192.168.1.5 instead (on interface enp7s0)\n",
      "22/07/11 21:54:27 WARN Utils: Set SPARK_LOCAL_IP if you need to bind to another address\n"
     ]
    },
    {
     "name": "stderr",
     "output_type": "stream",
     "text": [
      "Setting default log level to \"WARN\".\n",
      "To adjust logging level use sc.setLogLevel(newLevel). For SparkR, use setLogLevel(newLevel).\n"
     ]
    },
    {
     "name": "stdout",
     "output_type": "stream",
     "text": [
      "22/07/11 21:54:28 WARN NativeCodeLoader: Unable to load native-hadoop library for your platform... using builtin-java classes where applicable\n"
     ]
    }
   ],
   "source": [
    "import pyspark\n",
    "from pyspark.sql import SparkSession\n",
    "spark = SparkSession.builder.getOrCreate()"
   ]
  },
  {
   "cell_type": "code",
   "execution_count": 7,
   "id": "e6a6b13f",
   "metadata": {},
   "outputs": [],
   "source": [
    "profissional = spark.sparkContext.textFile(\"/home/rafael/git/spark_udemy/spark_venv/dados/Folhapagamento/Profissionais.txt\")\n",
    "salario = spark.sparkContext.textFile(\"/home/rafael/git/spark_udemy/spark_venv/dados/Folhapagamento/Salario.txt\")"
   ]
  },
  {
   "cell_type": "code",
   "execution_count": 8,
   "id": "db5d356d",
   "metadata": {},
   "outputs": [
    {
     "name": "stderr",
     "output_type": "stream",
     "text": [
      "                                                                                \r"
     ]
    },
    {
     "data": {
      "text/plain": [
       "['Carlos,oncologista,hospital',\n",
       " 'Ana,dentista,clinica',\n",
       " 'Fernanda,enfermeira,hospital',\n",
       " 'Sandra,pediatra,clinica',\n",
       " 'Fatima,dentista,clinica',\n",
       " 'Gilmar,cardiologista,hospital',\n",
       " 'Fabio,pediatra,clinica',\n",
       " 'Hilton,enfermeiro,clinica',\n",
       " 'Daiane,dentista,clinica',\n",
       " 'Paulo,farmaceutico,clinica',\n",
       " 'Gilberto,pediatra,hospital']"
      ]
     },
     "execution_count": 8,
     "metadata": {},
     "output_type": "execute_result"
    }
   ],
   "source": [
    "profissional.collect()"
   ]
  },
  {
   "cell_type": "code",
   "execution_count": 9,
   "id": "c5f02558",
   "metadata": {},
   "outputs": [
    {
     "data": {
      "text/plain": [
       "['Carlos,10000',\n",
       " 'Ana,7000',\n",
       " 'Fernanda,5000',\n",
       " 'Sandra,6000',\n",
       " 'Fatima,8500',\n",
       " 'Gilmar,9000',\n",
       " 'Fabio,12000',\n",
       " 'Hilton,5000',\n",
       " 'Jefferson,8000',\n",
       " 'Antonio,3000',\n",
       " 'Joaquim,5000']"
      ]
     },
     "execution_count": 9,
     "metadata": {},
     "output_type": "execute_result"
    }
   ],
   "source": [
    "salario.collect()"
   ]
  },
  {
   "cell_type": "code",
   "execution_count": 12,
   "id": "87b8bd60",
   "metadata": {},
   "outputs": [
    {
     "data": {
      "text/plain": [
       "[('Carlos', ('oncologista', 'hospital')),\n",
       " ('Ana', ('dentista', 'clinica')),\n",
       " ('Fernanda', ('enfermeira', 'hospital')),\n",
       " ('Sandra', ('pediatra', 'clinica')),\n",
       " ('Fatima', ('dentista', 'clinica')),\n",
       " ('Gilmar', ('cardiologista', 'hospital')),\n",
       " ('Fabio', ('pediatra', 'clinica')),\n",
       " ('Hilton', ('enfermeiro', 'clinica')),\n",
       " ('Daiane', ('dentista', 'clinica')),\n",
       " ('Paulo', ('farmaceutico', 'clinica')),\n",
       " ('Gilberto', ('pediatra', 'hospital'))]"
      ]
     },
     "execution_count": 12,
     "metadata": {},
     "output_type": "execute_result"
    }
   ],
   "source": [
    "profissional_ajuste = profissional.map(lambda x:(x.split(',')[0], (x.split(',')[1], x.split(',')[2])))\n",
    "profissional_ajuste.collect()"
   ]
  },
  {
   "cell_type": "code",
   "execution_count": 13,
   "id": "68a0cb9e",
   "metadata": {},
   "outputs": [
    {
     "data": {
      "text/plain": [
       "[('Carlos', '10000'),\n",
       " ('Ana', '7000'),\n",
       " ('Fernanda', '5000'),\n",
       " ('Sandra', '6000'),\n",
       " ('Fatima', '8500'),\n",
       " ('Gilmar', '9000'),\n",
       " ('Fabio', '12000'),\n",
       " ('Hilton', '5000'),\n",
       " ('Jefferson', '8000'),\n",
       " ('Antonio', '3000'),\n",
       " ('Joaquim', '5000')]"
      ]
     },
     "execution_count": 13,
     "metadata": {},
     "output_type": "execute_result"
    }
   ],
   "source": [
    "salario_ajuste = salario.map(lambda x: (x.split(',')[0], x.split(',')[1]))\n",
    "salario_ajuste.collect()"
   ]
  },
  {
   "cell_type": "code",
   "execution_count": 14,
   "id": "6a4385fe",
   "metadata": {},
   "outputs": [
    {
     "name": "stderr",
     "output_type": "stream",
     "text": [
      "                                                                                \r"
     ]
    },
    {
     "data": {
      "text/plain": [
       "[('Carlos', (('oncologista', 'hospital'), '10000')),\n",
       " ('Gilmar', (('cardiologista', 'hospital'), '9000')),\n",
       " ('Fatima', (('dentista', 'clinica'), '8500')),\n",
       " ('Fabio', (('pediatra', 'clinica'), '12000')),\n",
       " ('Ana', (('dentista', 'clinica'), '7000')),\n",
       " ('Fernanda', (('enfermeira', 'hospital'), '5000')),\n",
       " ('Sandra', (('pediatra', 'clinica'), '6000')),\n",
       " ('Hilton', (('enfermeiro', 'clinica'), '5000'))]"
      ]
     },
     "execution_count": 14,
     "metadata": {},
     "output_type": "execute_result"
    }
   ],
   "source": [
    "folha_pagamento_join = profissional_ajuste.join(salario_ajuste)\n",
    "folha_pagamento_join.collect()"
   ]
  },
  {
   "cell_type": "code",
   "execution_count": 15,
   "id": "4f1645ef",
   "metadata": {},
   "outputs": [
    {
     "data": {
      "text/plain": [
       "[('Carlos', (('oncologista', 'hospital'), '10000')),\n",
       " ('Gilmar', (('cardiologista', 'hospital'), '9000')),\n",
       " ('Fatima', (('dentista', 'clinica'), '8500')),\n",
       " ('Fabio', (('pediatra', 'clinica'), '12000')),\n",
       " ('Gilberto', (('pediatra', 'hospital'), None)),\n",
       " ('Daiane', (('dentista', 'clinica'), None)),\n",
       " ('Ana', (('dentista', 'clinica'), '7000')),\n",
       " ('Fernanda', (('enfermeira', 'hospital'), '5000')),\n",
       " ('Sandra', (('pediatra', 'clinica'), '6000')),\n",
       " ('Hilton', (('enfermeiro', 'clinica'), '5000')),\n",
       " ('Paulo', (('farmaceutico', 'clinica'), None))]"
      ]
     },
     "execution_count": 15,
     "metadata": {},
     "output_type": "execute_result"
    }
   ],
   "source": [
    "folha_pagamento_join = profissional_ajuste.leftOuterJoin(salario_ajuste)\n",
    "folha_pagamento_join.collect()"
   ]
  },
  {
   "cell_type": "code",
   "execution_count": 16,
   "id": "7e7000d1",
   "metadata": {},
   "outputs": [
    {
     "data": {
      "text/plain": [
       "[('Carlos', (('oncologista', 'hospital'), '10000')),\n",
       " ('Gilmar', (('cardiologista', 'hospital'), '9000')),\n",
       " ('Fatima', (('dentista', 'clinica'), '8500')),\n",
       " ('Fabio', (('pediatra', 'clinica'), '12000')),\n",
       " ('Joaquim', (None, '5000')),\n",
       " ('Antonio', (None, '3000')),\n",
       " ('Ana', (('dentista', 'clinica'), '7000')),\n",
       " ('Fernanda', (('enfermeira', 'hospital'), '5000')),\n",
       " ('Sandra', (('pediatra', 'clinica'), '6000')),\n",
       " ('Hilton', (('enfermeiro', 'clinica'), '5000')),\n",
       " ('Jefferson', (None, '8000'))]"
      ]
     },
     "execution_count": 16,
     "metadata": {},
     "output_type": "execute_result"
    }
   ],
   "source": [
    "folha_pagamento_join = profissional_ajuste.rightOuterJoin(salario_ajuste)\n",
    "folha_pagamento_join.collect()"
   ]
  }
 ],
 "metadata": {
  "kernelspec": {
   "display_name": "Python 3 (ipykernel)",
   "language": "python",
   "name": "python3"
  },
  "language_info": {
   "codemirror_mode": {
    "name": "ipython",
    "version": 3
   },
   "file_extension": ".py",
   "mimetype": "text/x-python",
   "name": "python",
   "nbconvert_exporter": "python",
   "pygments_lexer": "ipython3",
   "version": "3.8.10"
  }
 },
 "nbformat": 4,
 "nbformat_minor": 5
}
